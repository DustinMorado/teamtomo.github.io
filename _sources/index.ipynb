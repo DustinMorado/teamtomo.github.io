{
 "cells": [
  {
   "cell_type": "markdown",
   "id": "engaging-tender",
   "metadata": {},
   "source": [
    "# Home\n",
    "[Open Subtomo](https://github.com/open-subtomo/open-subtomo) is a collaborative, \n",
    "online resource for sharing knowledge within the cryo-electron tomography (cryo-ET) community.\n",
    "\n",
    "Cryo-ET is an imaging modality which uses \n",
    "[transmission electron microscopes](https://en.wikipedia.org/wiki/Transmission_electron_microscopy) \n",
    "to image proteins, their assemblies and thin cellular sections in their native state. \n",
    "3D images are obtained with high spatial resolution.\n",
    "\n",
    "Cryo-ET data is noisy and incompletely sampled. \n",
    "Subtomogram averaging procedures align and average noisy imaging data to produce 3D reconstructions of \n",
    "objects of interest. This increases in signal-to-noise ratio and interpretable resolution.\n",
    "\n",
    "If you're new to cryo-ET and subtomogram averaging, check out our \n",
    "[overview](general-principles/overview) \n",
    "and data processing \n",
    "[guides](guides/index).\n",
    "\n",
    "Looking for something specific? \n",
    "Check out our \n",
    "[mini-tutorials](mini-tutorials/mini-tutorials) \n",
    "and \n",
    "[general principles](general-principles/general-principles)\n",
    "sections!\n",
    "\n",
    "\n",
    "\n",
    "```{toctree}\n",
    ":hidden:\n",
    ":titlesonly:\n",
    ":caption: General Principles\n",
    "\n",
    "general-principles/general-principles\n",
    "general-principles/overviews/overviews\n",
    "general-principles/data-collection/introduction\n",
    "general-principles/subtomogram-averaging/index\n",
    "general-principles/image-processing/introduction\n",
    "```\n",
    "\n",
    "\n",
    "```{toctree}\n",
    ":hidden:\n",
    ":titlesonly:\n",
    ":caption: Guides\n",
    "\n",
    "EMPIAR-10164 (HIV VLPs) <guides/EMPIAR-10164/introduction>\n",
    "```\n",
    "\n",
    "\n",
    "```{toctree}\n",
    ":hidden:\n",
    ":titlesonly:\n",
    ":caption: Mini-tutorials\n",
    "\n",
    "mini-tutorials/software-usage/index\n",
    "mini-tutorials/programming/index\n",
    "```\n",
    "\n",
    "\n",
    "```{toctree}\n",
    ":hidden:\n",
    ":titlesonly:\n",
    ":caption: Contributing\n",
    "\n",
    "contributing/contributing\n",
    "```"
   ]
  }
 ],
 "metadata": {
  "jupytext": {
   "cell_metadata_filter": "-all",
   "formats": "md:myst",
   "text_representation": {
    "extension": ".md",
    "format_name": "myst",
    "format_version": 0.12,
    "jupytext_version": "1.7.1"
   }
  },
  "kernelspec": {
   "display_name": "Python 3",
   "language": "python",
   "name": "python3"
  },
  "language_info": {
   "codemirror_mode": {
    "name": "ipython",
    "version": 3
   },
   "file_extension": ".py",
   "mimetype": "text/x-python",
   "name": "python",
   "nbconvert_exporter": "python",
   "pygments_lexer": "ipython3",
   "version": "3.7.9"
  },
  "source_map": [
   14
  ]
 },
 "nbformat": 4,
 "nbformat_minor": 5
}